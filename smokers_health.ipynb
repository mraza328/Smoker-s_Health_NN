{
 "cells": [
  {
   "cell_type": "markdown",
   "metadata": {},
   "source": [
    "COSC 4337 Project\n",
    "Group 2\n",
    "Member Names: Muhammad Raza, "
   ]
  }
 ],
 "metadata": {
  "language_info": {
   "name": "python"
  }
 },
 "nbformat": 4,
 "nbformat_minor": 2
}
